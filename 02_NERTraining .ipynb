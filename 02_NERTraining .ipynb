{
 "cells": [
  {
   "cell_type": "markdown",
   "metadata": {
    "colab_type": "text",
    "id": "P7pplVJgcnAQ"
   },
   "source": [
    "This notebook illustrates how to train a NER model using the well known CONLL dataset, and sklearn_crfsuite library. "
   ]
  },
  {
   "cell_type": "markdown",
   "metadata": {
    "colab_type": "text",
    "id": "_EImA3uAeUoS"
   },
   "source": [
    "### Importing Necessary Libraries"
   ]
  },
  {
   "cell_type": "code",
   "execution_count": 10,
   "metadata": {
    "colab": {},
    "colab_type": "code",
    "id": "260mW70zcnAR"
   },
   "outputs": [
    {
     "name": "stderr",
     "output_type": "stream",
     "text": [
      "[nltk_data] Downloading package averaged_perceptron_tagger to\n",
      "[nltk_data]     /Users/scullyz/nltk_data...\n",
      "[nltk_data]   Package averaged_perceptron_tagger is already up-to-\n",
      "[nltk_data]       date!\n"
     ]
    },
    {
     "data": {
      "text/plain": [
       "True"
      ]
     },
     "execution_count": 10,
     "metadata": {},
     "output_type": "execute_result"
    }
   ],
   "source": [
    "# Necessary imports\n",
    "import nltk\n",
    "from nltk.tag import pos_tag\n",
    "from sklearn_crfsuite import CRF, metrics\n",
    "from sklearn.metrics import confusion_matrix\n",
    "import warnings\n",
    "warnings.filterwarnings('ignore')\n",
    "\n",
    "# Download the NLTK tagger resource\n",
    "nltk.download('averaged_perceptron_tagger')"
   ]
  },
  {
   "cell_type": "markdown",
   "metadata": {
    "colab_type": "text",
    "id": "23NhWgM4eT9l"
   },
   "source": [
    "### Loading The Data"
   ]
  },
  {
   "cell_type": "code",
   "execution_count": 11,
   "metadata": {
    "colab": {},
    "colab_type": "code",
    "id": "3f-Pvr5tcnAg"
   },
   "outputs": [],
   "source": [
    "\"\"\"\n",
    "Load the training/testing data. \n",
    "input: conll format data, but with only 2 tab separated columns - words and NE tags.\n",
    "output: A list where each item is 2 lists. sentence as a list of tokens, NER tags as a list for each token.\n",
    "\"\"\"\n",
    "def load__data_conll(file_path):\n",
    "    myoutput, words, tags = [], [], []\n",
    "    with open(file_path, 'r') as fh:\n",
    "        for line in fh:\n",
    "            line = line.strip()\n",
    "            if \"\\t\" not in line:\n",
    "                # Sentence ended.\n",
    "                if words:\n",
    "                    myoutput.append([words, tags])\n",
    "                words, tags = [], []\n",
    "            else:\n",
    "                word, tag = line.split(\"\\t\")\n",
    "                words.append(word)\n",
    "                tags.append(tag)\n",
    "    return myoutput"
   ]
  },
  {
   "cell_type": "code",
   "execution_count": 12,
   "metadata": {
    "colab": {},
    "colab_type": "code",
    "id": "EZNEu753cnAl"
   },
   "outputs": [],
   "source": [
    "\"\"\"\n",
    "Get features for all words in the sentence\n",
    "Features:\n",
    "- word context: a window of 2 words on either side of the current word, and current word.\n",
    "- POS context: a window of 2 POS tags on either side of the current word, and current tag. \n",
    "input: sentence as a list of tokens.\n",
    "output: list of dictionaries. each dict represents features for that word.\n",
    "\"\"\"\n",
    "def sent2feats(sentence):\n",
    "    feats = []\n",
    "    sen_tags = pos_tag(sentence)  # POS tagging the sentence\n",
    "    for i in range(len(sentence)):\n",
    "        word = sentence[i]\n",
    "        wordfeats = {}\n",
    "        # word features: word, prev 2 words, next 2 words in the sentence.\n",
    "        wordfeats['word'] = word\n",
    "        if i == 0:\n",
    "            wordfeats[\"prevWord\"] = wordfeats[\"prevSecondWord\"] = \"<S>\"\n",
    "        elif i == 1:\n",
    "            wordfeats[\"prevWord\"] = sentence[0]\n",
    "            wordfeats[\"prevSecondWord\"] = \"</S>\"\n",
    "        else:\n",
    "            wordfeats[\"prevWord\"] = sentence[i - 1]\n",
    "            wordfeats[\"prevSecondWord\"] = sentence[i - 2]\n",
    "\n",
    "        if i == len(sentence) - 2:\n",
    "            wordfeats[\"nextWord\"] = sentence[i + 1]\n",
    "            wordfeats[\"nextNextWord\"] = \"</S>\"\n",
    "        elif i == len(sentence) - 1:\n",
    "            wordfeats[\"nextWord\"] = \"</S>\"\n",
    "            wordfeats[\"nextNextWord\"] = \"</S>\"\n",
    "        else:\n",
    "            wordfeats[\"nextWord\"] = sentence[i + 1]\n",
    "            wordfeats[\"nextNextWord\"] = sentence[i + 2]\n",
    "\n",
    "        # POS tag features: current tag, previous and next 2 tags.\n",
    "        wordfeats['tag'] = sen_tags[i][1]\n",
    "        if i == 0:\n",
    "            wordfeats[\"prevTag\"] = wordfeats[\"prevSecondTag\"] = \"<S>\"\n",
    "        elif i == 1:\n",
    "            wordfeats[\"prevTag\"] = sen_tags[0][1]\n",
    "            wordfeats[\"prevSecondTag\"] = \"</S>\"\n",
    "        else:\n",
    "            wordfeats[\"prevTag\"] = sen_tags[i - 1][1]\n",
    "            wordfeats[\"prevSecondTag\"] = sen_tags[i - 2][1]\n",
    "\n",
    "        if i == len(sentence) - 2:\n",
    "            wordfeats[\"nextTag\"] = sen_tags[i + 1][1]\n",
    "            wordfeats[\"nextNextTag\"] = \"</S>\"\n",
    "        elif i == len(sentence) - 1:\n",
    "            wordfeats[\"nextTag\"] = \"</S>\"\n",
    "            wordfeats[\"nextNextTag\"] = \"</S>\"\n",
    "        else:\n",
    "            wordfeats[\"nextTag\"] = sen_tags[i + 1][1]\n",
    "            wordfeats[\"nextNextTag\"] = sen_tags[i + 2][1]\n",
    "\n",
    "        feats.append(wordfeats)\n",
    "    return feats"
   ]
  },
  {
   "cell_type": "markdown",
   "metadata": {
    "colab_type": "text",
    "id": "kBNaaDJce102"
   },
   "source": [
    "### Extracting Features"
   ]
  },
  {
   "cell_type": "code",
   "execution_count": 13,
   "metadata": {
    "colab": {},
    "colab_type": "code",
    "id": "LmB5emVicnA1"
   },
   "outputs": [],
   "source": [
    "# Extract features from the conll data, after loading it.\n",
    "def get_feats_conll(conll_data):\n",
    "    feats = []\n",
    "    labels = []\n",
    "    for sentence in conll_data:\n",
    "        feats.append(sent2feats(sentence[0]))\n",
    "        labels.append(sentence[1])\n",
    "    return feats, labels"
   ]
  },
  {
   "cell_type": "markdown",
   "metadata": {},
   "source": [
    "### Confusion matrix printer"
   ]
  },
  {
   "cell_type": "code",
   "execution_count": 14,
   "metadata": {},
   "outputs": [],
   "source": [
    "def print_cm(cm, labels):\n",
    "    columnwidth = max([len(x) for x in labels] + [5])\n",
    "    empty_cell = \" \" * columnwidth\n",
    "    print(\"    \" + empty_cell, end=\" \")\n",
    "    for label in labels:\n",
    "        print(f\"{label:{columnwidth}}\", end=\" \")\n",
    "    print()\n",
    "    \n",
    "    for i, label1 in enumerate(labels):\n",
    "        print(f\"{label1:{columnwidth}}\", end=\" \")\n",
    "        for j in range(len(labels)):\n",
    "            cell = f\"{cm[i, j]:{columnwidth}.0f}\"\n",
    "            print(cell, end=\" \")\n",
    "        print()"
   ]
  },
  {
   "cell_type": "markdown",
   "metadata": {},
   "source": [
    "### Generate confusion matrix"
   ]
  },
  {
   "cell_type": "code",
   "execution_count": 16,
   "metadata": {},
   "outputs": [],
   "source": [
    "def get_confusion_matrix(y_true, y_pred, labels):\n",
    "    trues, preds = [], []\n",
    "    for yseq_true, yseq_pred in zip(y_true, y_pred):\n",
    "        trues.extend(yseq_true)\n",
    "        preds.extend(yseq_pred)\n",
    "    \n",
    "    # Fix: Explicitly pass the 'labels' as a keyword argument\n",
    "    cm = confusion_matrix(trues, preds, labels=labels)\n",
    "    print_cm(cm, labels)"
   ]
  },
  {
   "cell_type": "markdown",
   "metadata": {
    "colab_type": "text",
    "id": "S7TO_UXBe6Lg"
   },
   "source": [
    "### Training a Model"
   ]
  },
  {
   "cell_type": "code",
   "execution_count": 17,
   "metadata": {
    "colab": {},
    "colab_type": "code",
    "id": "7bo-XzixcnBA"
   },
   "outputs": [],
   "source": [
    "# Train a sequence model\n",
    "def train_seq(X_train, Y_train, X_dev, Y_dev):\n",
    "    crf = CRF(algorithm='lbfgs', c1=0.1, c2=10, max_iterations=50)\n",
    "    crf.fit(X_train, Y_train)\n",
    "    labels = list(crf.classes_)\n",
    "    y_pred = crf.predict(X_dev)\n",
    "    sorted_labels = sorted(labels, key=lambda name: (name[1:], name[0]))\n",
    "\n",
    "    print(metrics.flat_f1_score(Y_dev, y_pred, average='weighted', labels=labels))\n",
    "    print(metrics.flat_classification_report(Y_dev, y_pred, labels=sorted_labels, digits=3))\n",
    "    \n",
    "    # Fix: Correct call to get_confusion_matrix\n",
    "    get_confusion_matrix(Y_dev, y_pred, labels=sorted_labels)"
   ]
  },
  {
   "cell_type": "markdown",
   "metadata": {
    "colab_type": "text",
    "id": "IYAlUXyRfPzf"
   },
   "source": [
    "### Call all our functions inside the main method"
   ]
  },
  {
   "cell_type": "code",
   "execution_count": 18,
   "metadata": {
    "colab": {},
    "colab_type": "code",
    "id": "GtkLBZF-cnBr",
    "outputId": "4eaf8838-d550-45b4-eba7-39b36b3e9004"
   },
   "outputs": [
    {
     "name": "stdout",
     "output_type": "stream",
     "text": [
      "Training a Sequence classification model with CRF\n",
      "0.9255103670420659\n",
      "              precision    recall  f1-score   support\n",
      "\n",
      "           O      0.973     0.981     0.977     38323\n",
      "       B-LOC      0.694     0.765     0.728      1668\n",
      "       I-LOC      0.738     0.482     0.584       257\n",
      "      B-MISC      0.648     0.309     0.419       702\n",
      "      I-MISC      0.626     0.505     0.559       216\n",
      "       B-ORG      0.670     0.561     0.611      1661\n",
      "       I-ORG      0.551     0.704     0.618       835\n",
      "       B-PER      0.773     0.766     0.769      1617\n",
      "       I-PER      0.819     0.886     0.851      1156\n",
      "\n",
      "    accuracy                          0.928     46435\n",
      "   macro avg      0.721     0.662     0.679     46435\n",
      "weighted avg      0.926     0.928     0.926     46435\n",
      "\n",
      "           O      B-LOC  I-LOC  B-MISC I-MISC B-ORG  I-ORG  B-PER  I-PER  \n",
      "O       37579    118      3     22     32    193    224     88     64 \n",
      "B-LOC     143   1276      1     36      1     95     14     98      4 \n",
      "I-LOC      32      6    124      1      5      0     52      0     37 \n",
      "B-MISC    344     48      1    217      2     56     13     19      2 \n",
      "I-MISC     58      1      4      4    109      2     29      0      9 \n",
      "B-ORG     265    236      0     48      3    932     20    151      6 \n",
      "I-ORG      76     15     18      2     15     21    588      8     92 \n",
      "B-PER      86    138      1      5      3     90     44   1238     12 \n",
      "I-PER      26      1     16      0      4      2     83      0   1024 \n",
      "Done with sequence model\n"
     ]
    }
   ],
   "source": [
    "# Main function\n",
    "def main():\n",
    "    try:\n",
    "        from google.colab import files\n",
    "        uploaded = files.upload()\n",
    "        train_path = 'train.txt'\n",
    "        test_path = 'test.txt'\n",
    "    except:\n",
    "        train_path = '/Users/scullyz/Desktop/NER/conlldata/train.txt'\n",
    "        test_path = '/Users/scullyz/Desktop/NER/conlldata/test.txt'\n",
    "    \n",
    "    conll_train = load__data_conll(train_path)\n",
    "    conll_dev = load__data_conll(test_path)\n",
    "    \n",
    "    print(\"Training a Sequence classification model with CRF\")\n",
    "    feats, labels = get_feats_conll(conll_train)\n",
    "    devfeats, devlabels = get_feats_conll(conll_dev)\n",
    "    train_seq(feats, labels, devfeats, devlabels)\n",
    "    print(\"Done with sequence model\")\n",
    "\n",
    "if __name__ == \"__main__\":\n",
    "    main()"
   ]
  },
  {
   "cell_type": "markdown",
   "metadata": {
    "colab_type": "text",
    "id": "-xwubY50cnB1"
   },
   "source": [
    "This is pretty good. We already have a model which has an F-score of 92%!!!"
   ]
  }
 ],
 "metadata": {
  "colab": {
   "name": "NERTraining.ipynb",
   "provenance": []
  },
  "kernelspec": {
   "display_name": "Python 3",
   "language": "python",
   "name": "python3"
  },
  "language_info": {
   "codemirror_mode": {
    "name": "ipython",
    "version": 3
   },
   "file_extension": ".py",
   "mimetype": "text/x-python",
   "name": "python",
   "nbconvert_exporter": "python",
   "pygments_lexer": "ipython3",
   "version": "3.9.6"
  }
 },
 "nbformat": 4,
 "nbformat_minor": 1
}
