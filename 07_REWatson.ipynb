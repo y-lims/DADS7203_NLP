{
  "cells": [
    {
      "cell_type": "markdown",
      "metadata": {},
      "source": [
        "# Realation Extraction (RE) with Watson API"
      ]
    },
    {
      "cell_type": "markdown",
      "metadata": {},
      "source": [
        "- **relations**การสกัดความสัมพันธ์ (Relation Extraction: RE) เป็นปัญหาที่ซับซ้อน - **relations**และการพัฒนาระบบสกัดความสัมพันธ์ขึ้นมาเองจากศูนย์นั้นถือเป็นงานที่ท้าทายและต้องใช้เวลามาก อย่างไรก็ตาม วิธีแก้ปัญหาที่นิยมใช้ในอุตสาหกรรม NLP - **relations**คือการพึ่งพาบริการ Natural Language Understanding (NLU) ที่จัดเตรียมโดย IBM Watson บริการนี้ช่วยให้นักพัฒนาสามารถสกัดความสัมพันธ์ระหว่างเอนทิตีต่างๆ - **relations**ในข้อความได้โดยไม่ต้องพัฒนาระบบใหม่ตั้งแต่ต้น"
      ]
    },
    {
      "cell_type": "markdown",
      "metadata": {},
      "source": [
        "- **features=Features()**\n",
        "- **relations**: `RelationsOptions()` - วิเคราะห์ความสัมพันธ์ (relations) ระหว่างส่วนต่าง ๆ ในข้อความ\n",
        "- **sentiment**: `SentimentOptions()` - วิเคราะห์ความรู้สึก (sentiment) ว่าเป็นบวกหรือลบ\n",
        "- **entities**: `EntitiesOptions()` - ตรวจจับเอนทิตี (entities) เช่น ชื่อคน สถานที่ หรือองค์กร\n",
        "- **keywords**: `KeywordsOptions()` - ดึงคำหลัก (keywords) ที่สำคัญในข้อความ\n",
        "- **emotion**: `EmotionOptions()` - วิเคราะห์อารมณ์ (emotion) ในข้อความ เช่น ความสุข ความเศร้า ความโกรธ\n",
        "- **concepts**: `ConceptsOptions()` - ตรวจจับแนวคิด (concepts) หรือหัวข้อสำคัญในข้อความ\n",
        "- **categories**: `CategoriesOptions()` - จัดหมวดหมู่ข้อความให้อยู่ในหมวดหมู่เนื้อหาเฉพาะ\n",
        "\n"
      ]
    },
    {
      "cell_type": "markdown",
      "metadata": {},
      "source": [
        "โค้ดนี้เป็นตัวอย่างการใช้ IBM Watson Natural Language Understanding (NLU) เพื่อตรวจสอบความสัมพันธ์ (relations) ในข้อความ โดยใช้ API ของ IBM Watson\n"
      ]
    },
    {
      "cell_type": "markdown",
      "metadata": {},
      "source": [
        "## Example 1"
      ]
    },
    {
      "cell_type": "code",
      "execution_count": 3,
      "metadata": {},
      "outputs": [],
      "source": [
        "# # New version\n",
        "\n",
        "# import json\n",
        "# from ibm_watson import NaturalLanguageUnderstandingV1\n",
        "# from ibm_cloud_sdk_core.authenticators import IAMAuthenticator\n",
        "# from ibm_watson.natural_language_understanding_v1 import Features, RelationsOptions\n",
        "\n",
        "# # Replace 'XXXXX' with your actual API key\n",
        "# authenticator = IAMAuthenticator('XXXXX')\n",
        "# natural_language_understanding = NaturalLanguageUnderstandingV1(\n",
        "#     version='2021-08-01',\n",
        "#     authenticator=authenticator\n",
        "# )\n",
        "\n",
        "# # Set the service URL (replace with your service URL)\n",
        "# natural_language_understanding.set_service_url('https://gateway-wdc.watsonplatform.net/natural-language-understanding/api')\n",
        "\n",
        "# # Analyze the text\n",
        "# response = natural_language_understanding.analyze(\n",
        "#     text='Leonardo DiCaprio won Best Actor in a Leading Role for his performance.',\n",
        "#     features=Features(relations=RelationsOptions())\n",
        "# ).get_result()\n",
        "\n",
        "# # Print the result\n",
        "# print(json.dumps(response, indent=2))\n"
      ]
    },
    {
      "cell_type": "code",
      "execution_count": null,
      "metadata": {
        "colab": {},
        "colab_type": "code",
        "id": "Tgo_X-o4cnfv",
        "outputId": "11e679b2-ff24-47f5-909e-a9ae8d297aaf"
      },
      "outputs": [
        {
          "name": "stderr",
          "output_type": "stream",
          "text": [
            "/usr/local/lib/python3.6/dist-packages/ipykernel_launcher.py:8: DeprecationWarning: watson-developer-cloud moved to ibm-watson. To get updates, use the new package.\n",
            "  \n"
          ]
        },
        {
          "name": "stdout",
          "output_type": "stream",
          "text": [
            "{\n",
            "  \"usage\": {\n",
            "    \"text_units\": 1,\n",
            "    \"text_characters\": 71,\n",
            "    \"features\": 1\n",
            "  },\n",
            "  \"relations\": [\n",
            "    {\n",
            "      \"type\": \"awardedTo\",\n",
            "      \"sentence\": \"Leonardo DiCaprio won Best Actor in a Leading Role for his performance.\",\n",
            "      \"score\": 0.680715,\n",
            "      \"arguments\": [\n",
            "        {\n",
            "          \"text\": \"Best Actor\",\n",
            "          \"location\": [\n",
            "            22,\n",
            "            32\n",
            "          ],\n",
            "          \"entities\": [\n",
            "            {\n",
            "              \"type\": \"EntertainmentAward\",\n",
            "              \"text\": \"Best Actor\"\n",
            "            }\n",
            "          ]\n",
            "        },\n",
            "        {\n",
            "          \"text\": \"Leonardo DiCaprio\",\n",
            "          \"location\": [\n",
            "            0,\n",
            "            17\n",
            "          ],\n",
            "          \"entities\": [\n",
            "            {\n",
            "              \"type\": \"Person\",\n",
            "              \"text\": \"Leonardo DiCaprio\"\n",
            "            }\n",
            "          ]\n",
            "        }\n",
            "      ]\n",
            "    }\n",
            "  ],\n",
            "  \"language\": \"en\"\n",
            "}\n"
          ]
        }
      ],
      "source": [
        "# Old version\n",
        "\n",
        "import json # ใช้ในการจัดรูปแบบข้อมูลที่ได้รับจาก IBM Watson เป็น JSON\n",
        "from watson_developer_cloud import NaturalLanguageUnderstandingV1 # Import Function\n",
        "from watson_developer_cloud.natural_language_understanding_v1 import Features, RelationsOptions # Import Feature in NLU\n",
        "\n",
        "# สร้าง Object ของ Watson NLU:\n",
        "natural_language_understanding = NaturalLanguageUnderstandingV1(\n",
        "    version='2018-11-16', # กำหนดเวอร์ชัน '2018-11-16'\n",
        "    # สามารถดู version ได้จาก \n",
        "    #   https://cloud.ibm.com/docs/natural-language-understanding?topic=natural-language-understanding-release-notes\n",
        "    #   https://cloud.ibm.com/docs/natural-language-understanding?topic=natural-language-understanding-entity-type-systems\n",
        "    iam_apikey='XXXXX', # คีย์ API ที่ใช้เพื่อยืนยันตัวตน (Authentication) \n",
        "    url='https://gateway-wdc.watsonplatform.net/natural-language-understanding/api'\n",
        "    # URL นี้คืออะไร: เป็น URL ที่ใช้เชื่อมต่อกับ IBM Watson Natural Language Understanding (NLU) API \n",
        "    # สำหรับการส่งคำขอและรับผลลัพธ์จากบริการวิเคราะห์ภาษาธรรมชาติ\n",
        ")\n",
        "\n",
        "# วิเคราะห์ ความสัมพันธ์(relations) ในข้อความที่ให้ไว้ และรับผลลัพธ์ที่ได้จาก API มาใช้งาน\n",
        "response = natural_language_understanding.analyze(\n",
        "    text='Leonardo DiCaprio won Best Actor in a Leading Role for his performance.',\n",
        "    features=Features(relations=RelationsOptions()) # API วิเคราะห์ โดยในกรณีนี้คือฟีเจอร์ relations ซึ่งใช้ในการวิเคราะห์ความสัมพันธ์ (relations) ระหว่างสิ่งต่าง ๆ ในข้อความ\n",
        "    ,language=\"en\"  # ระบุภาษา\n",
        "    ).get_result()\n",
        "\n",
        "print(json.dumps(response, indent=2)) # Dump string สร้าง string จากข้อมูล python"
      ]
    },
    {
      "cell_type": "code",
      "execution_count": null,
      "metadata": {},
      "outputs": [],
      "source": [
        "{\n",
        "  \"usage\": { # บอกสถิติการใช้งานของการวิเคราะห์\n",
        "    \"text_units\": 1, # จำนวนหน่วยของข้อความที่ถูกวิเคราะห์ (1 หน่วย)\n",
        "    \"text_characters\": 71, # จำนวนตัวอักษรในข้อความที่ถูกวิเคราะห์ (71 ตัวอักษร)\n",
        "    \"features\": 1 # จำนวนฟีเจอร์ที่ถูกวิเคราะห์ (ในกรณีนี้มี 1 ฟีเจอร์ คือ relations)\n",
        "  },\n",
        "  \"relations\": [\n",
        "    {\n",
        "      \"type\": \"awardedTo\", # ความสัมพันธ์ที่เกี่ยวข้องกับการให้รางวัล\n",
        "      \"sentence\": \"Leonardo DiCaprio won Best Actor in a Leading Role for his performance.\",\n",
        "      \"score\": 0.680715, # ความมั่นใจในการวิเคราะห์ความสัมพันธ์นี้ ยิ่งคะแนนเข้าใกล้ 1 \n",
        "      # ==========================================\n",
        "      \"arguments\": [\n",
        "        # -------------------------------\n",
        "        {\n",
        "          \"text\": \"Best Actor\",\n",
        "          \"location\": [ # ตำแหน่ง index ของ text ที่ 22 ถึง 32\n",
        "            22,\n",
        "            32\n",
        "          ],\n",
        "          \"entities\": [ # จัดประเภท\n",
        "            {\n",
        "              \"type\": \"EntertainmentAward\", # ประเภท \"รางวัลบันเทิง\"\n",
        "              \"text\": \"Best Actor\"\n",
        "            }\n",
        "          ]\n",
        "        },\n",
        "        # -------------------------------\n",
        "        {\n",
        "          \"text\": \"Leonardo DiCaprio\",\n",
        "          \"location\": [\n",
        "            0,\n",
        "            17\n",
        "          ],\n",
        "          \"entities\": [\n",
        "            {\n",
        "              \"type\": \"Person\", # ประเภท \"บุคคล\"\n",
        "              \"text\": \"Leonardo DiCaprio\"\n",
        "            }\n",
        "          ]\n",
        "        }\n",
        "        # -------------------------------\n",
        "      ]\n",
        "      # ==========================================\n",
        "    }\n",
        "  ],\n",
        "  \"language\": \"en\"\n",
        "}"
      ]
    },
    {
      "cell_type": "markdown",
      "metadata": {},
      "source": [
        "# Entity"
      ]
    },
    {
      "cell_type": "markdown",
      "metadata": {},
      "source": [
        "- **Entity types**:\n",
        "  - **Date**\n",
        "  - **Duration**\n",
        "  - **EmailAddress**\n",
        "  - **Facility**\n",
        "  - **GeographicFeature**\n",
        "  - **Hashtag**\n",
        "  - **IPAddress**\n",
        "  - **JobTitle**\n",
        "  - **Location**\n",
        "  - **Measure**\n",
        "  - **Money**\n",
        "  - **Number**\n",
        "  - **Ordinal**\n",
        "  - **Organization**\n",
        "  - **Percent**\n",
        "  - **Person**\n",
        "  - **PhoneNumber**\n",
        "  - **Time**\n",
        "  - **TwitterHandle**\n",
        "  - **URL**"
      ]
    },
    {
      "cell_type": "markdown",
      "metadata": {},
      "source": [
        "- **Entity subtypes**:\n",
        "  - **AbusedSubstance**\n",
        "  - **Academic**\n",
        "  - **AcademicInstitution**\n",
        "  - **AcademicPostTitle**\n",
        "  - **AccidentType**\n",
        "  - **Accommodation**\n",
        "  - **Actor**\n",
        "  - **AdministrativeDivision**\n",
        "  - **AircraftDesigner**\n",
        "  - **AircraftManufacturer**\n",
        "  - **...**\n",
        "  - **...**\n"
      ]
    },
    {
      "cell_type": "markdown",
      "metadata": {},
      "source": [
        "- **https://cloud.ibm.com/docs/natural-language-understanding?topic=natural-language-understanding-entity-types-version-2**"
      ]
    },
    {
      "cell_type": "markdown",
      "metadata": {},
      "source": [
        "## Example 2"
      ]
    },
    {
      "cell_type": "code",
      "execution_count": null,
      "metadata": {
        "colab": {},
        "colab_type": "code",
        "id": "W0C7khY9cnf0"
      },
      "outputs": [],
      "source": [
        "mytext = \"Satya Narayana Nadella currently serves as the Chief Executive Officer (CEO) of Microsoft.\"\n",
        "\n",
        "response = natural_language_understanding.analyze(\n",
        "    text=mytext,\n",
        "    features=Features(relations=RelationsOptions())).get_result()\n",
        "\n",
        "#print(json.dumps(response, indent=2))\n",
        "result = json.dumps(response)\n"
      ]
    },
    {
      "cell_type": "code",
      "execution_count": null,
      "metadata": {
        "colab": {},
        "colab_type": "code",
        "id": "MVZXkl3gcngF",
        "outputId": "262d4877-d2a1-4caa-a6a3-2afea85a5c32"
      },
      "outputs": [
        {
          "data": {
            "text/plain": [
              "'{\"usage\": {\"text_units\": 1, \"text_characters\": 90, \"features\": 1}, \"relations\": [{\"type\": \"employedBy\", \"sentence\": \"Satya Narayana Nadella currently serves as the Chief Executive Officer (CEO) of Microsoft.\", \"score\": 0.48706, \"arguments\": [{\"text\": \"CEO\", \"location\": [72, 75], \"entities\": [{\"type\": \"Person\", \"text\": \"Satya Narayana Nadella\"}]}, {\"text\": \"Microsoft\", \"location\": [80, 89], \"entities\": [{\"type\": \"Organization\", \"text\": \"Microsoft\", \"disambiguation\": {\"subtype\": [\"Commercial\"]}}]}]}], \"language\": \"en\"}'"
            ]
          },
          "execution_count": 42,
          "metadata": {
            "tags": []
          },
          "output_type": "execute_result"
        }
      ],
      "source": [
        "result"
      ]
    },
    {
      "cell_type": "code",
      "execution_count": null,
      "metadata": {},
      "outputs": [],
      "source": [
        "{\n",
        "  \"usage\": {\n",
        "    \"text_units\": 1,\n",
        "    \"text_characters\": 90,\n",
        "    \"features\": 1\n",
        "  },\n",
        "  \"relations\": [\n",
        "    # ================================\n",
        "    {\n",
        "      \"type\": \"employedBy\",\n",
        "      \"sentence\": \"Satya Narayana Nadella currently serves as the Chief Executive Officer (CEO) of Microsoft.\",\n",
        "      \"score\": 0.48706,\n",
        "      \"arguments\": [\n",
        "        # ---------------------\n",
        "        {\n",
        "          \"text\": \"CEO\",\n",
        "          \"location\": [\n",
        "            72,\n",
        "            75\n",
        "          ],\n",
        "          \"entities\": [\n",
        "            {\n",
        "              \"type\": \"Person\",\n",
        "              \"text\": \"Satya Narayana Nadella\"\n",
        "            }\n",
        "          ]\n",
        "        },\n",
        "        # ---------------------\n",
        "        {\n",
        "          \"text\": \"Microsoft\",\n",
        "          \"location\": [\n",
        "            80,\n",
        "            89\n",
        "          ],\n",
        "          \"entities\": [\n",
        "            {\n",
        "              \"type\": \"Organization\",\n",
        "              \"text\": \"Microsoft\",\n",
        "              \"disambiguation\": { # แก้ความกำกวม (บอกรายละเอียดเพิ่มเติม)\n",
        "                \"subtype\": [\n",
        "                  \"Commercial\"\n",
        "                ]\n",
        "              }\n",
        "            }\n",
        "          ]\n",
        "        }\n",
        "        # ---------------------\n",
        "      ]\n",
        "    }\n",
        "    # --------------------------------\n",
        "  ],\n",
        "  \"language\": \"en\"\n",
        "}\n"
      ]
    },
    {
      "cell_type": "code",
      "execution_count": null,
      "metadata": {
        "colab": {},
        "colab_type": "code",
        "id": "KhxRifcYcngM",
        "outputId": "3893966f-b1bb-489a-8df6-727a9a260059"
      },
      "outputs": [
        {
          "name": "stdout",
          "output_type": "stream",
          "text": [
            "employedBy\n",
            "[{'type': 'Person', 'text': 'Satya Narayana Nadella'}]\n",
            "[{'type': 'Organization', 'text': 'Microsoft', 'disambiguation': {'subtype': ['Commercial']}}]\n",
            "\n"
          ]
        }
      ],
      "source": [
        "for item in response['relations']:\n",
        "        print(item['type'])\n",
        "        for subitem in item['arguments']:\n",
        "            print(subitem['entities'])\n",
        "print()"
      ]
    },
    {
      "cell_type": "markdown",
      "metadata": {},
      "source": [
        "## Example 3"
      ]
    },
    {
      "cell_type": "code",
      "execution_count": null,
      "metadata": {
        "colab": {},
        "colab_type": "code",
        "id": "LPOOAWyzcngP",
        "outputId": "b2ca6263-70a2-42c7-8cce-9a976645b040"
      },
      "outputs": [
        {
          "name": "stdout",
          "output_type": "stream",
          "text": [
            "bornAt\n",
            "[{'type': 'Person', 'text': 'Nadella'}]\n",
            "[{'type': 'GeopoliticalEntity', 'text': 'Hyderabad'}]\n",
            "parentOf\n",
            "[{'type': 'Person', 'text': 'Bukkapuram Nadella Yugandher'}]\n",
            "[{'type': 'Person', 'text': 'Nadella'}]\n",
            "employedBy\n",
            "[{'type': 'Person', 'text': 'Administrative'}]\n",
            "[{'type': 'GeopoliticalEntity', 'text': 'Indian', 'disambiguation': {'subtype': ['Country']}}]\n",
            "managerOf\n",
            "[{'type': 'Person', 'text': 'Administrative'}]\n",
            "[{'type': 'Organization', 'text': 'Service', 'disambiguation': {'subtype': ['Government']}}]\n",
            "parentOf\n",
            "[{'type': 'Person', 'text': 'scholar'}]\n",
            "[{'type': 'Person', 'text': 'Nadella'}]\n",
            "locatedAt\n",
            "[{'type': 'Person', 'text': 'scholar'}]\n",
            "[{'type': 'Facility', 'text': 'Sanskrit'}]\n",
            "locatedAt\n",
            "[{'type': 'Person', 'text': 'scholar'}]\n",
            "[{'type': 'Facility', 'text': 'Sanskrit'}]\n",
            "\n"
          ]
        }
      ],
      "source": [
        "mytext2 = \"Nadella was born in Hyderabad. His father, Bukkapuram Nadella Yugandher,\\\n",
        "      was a civil servant who worked for the Indian Administrative Service of the Government of India. His mother was a Sanskrit scholar. \"\n",
        "response = natural_language_understanding.analyze(\n",
        "    text=mytext2,\n",
        "    features=Features(relations=RelationsOptions())).get_result()\n",
        "\n",
        "for item in response['relations']:\n",
        "        print(item['type'])\n",
        "        for subitem in item['arguments']:\n",
        "            print(subitem['entities'])\n",
        "print()"
      ]
    },
    {
      "cell_type": "markdown",
      "metadata": {},
      "source": [
        "## Example 4"
      ]
    },
    {
      "cell_type": "code",
      "execution_count": null,
      "metadata": {},
      "outputs": [],
      "source": [
        "mytext = \"Amazon releases new product.\"\n",
        "\n",
        "response = natural_language_understanding.analyze(\n",
        "    text=mytext,\n",
        "    features=Features(relations=RelationsOptions())).get_result()\n",
        "\n",
        "print(json.dumps(response, indent=2))\n"
      ]
    },
    {
      "cell_type": "code",
      "execution_count": null,
      "metadata": {},
      "outputs": [],
      "source": [
        "{\n",
        "  \"usage\": {\n",
        "    \"text_units\": 1,\n",
        "    \"text_characters\": 13,\n",
        "    \"features\": 1\n",
        "  },\n",
        "  \"entities\": [\n",
        "    {\n",
        "      \"type\": \"Organization\",\n",
        "      \"text\": \"Amazon\",\n",
        "      \"disambiguation\": \n",
        "        \"subtype\": [\"Commercial\", \"E-commerce\"]\n",
        "      },\n",
        "      \"score\": 0.95\n",
        "    }\n",
        "  ],\n",
        "  \"language\": \"en\"\n",
        "}\n",
        "\n"
      ]
    },
    {
      "cell_type": "code",
      "execution_count": null,
      "metadata": {},
      "outputs": [],
      "source": [
        "mytext = \"Amazon one of the most dangerous places\"\n",
        "\n",
        "response = natural_language_understanding.analyze(\n",
        "    text=mytext,\n",
        "    features=Features(relations=RelationsOptions())).get_result()\n",
        "\n",
        "print(json.dumps(response, indent=2))\n"
      ]
    },
    {
      "cell_type": "code",
      "execution_count": null,
      "metadata": {},
      "outputs": [],
      "source": [
        "\n",
        "{\n",
        "  \"usage\": {\n",
        "    \"text_units\": 1,\n",
        "    \"text_characters\": 13,\n",
        "    \"features\": 1\n",
        "  },\n",
        "  \"entities\": [\n",
        "    {\n",
        "      \"type\": \"Location\",\n",
        "      \"text\": \"Amazon\",\n",
        "      \"disambiguation\": {\n",
        "        \"subtype\": [\"GeographicFeature\", \"River\"]\n",
        "      },\n",
        "      \"score\": 0.85  # คะแนนความมั่นใจ\n",
        "    }\n",
        "  ],\n",
        "  \"language\": \"en\"\n",
        "}\n"
      ]
    },
    {
      "cell_type": "markdown",
      "metadata": {},
      "source": [
        "## Example 5"
      ]
    },
    {
      "cell_type": "code",
      "execution_count": null,
      "metadata": {
        "colab": {},
        "colab_type": "code",
        "id": "e2zb76UAcngh",
        "outputId": "ece2717a-e839-4b95-ae4e-cc7eb17ab4a5"
      },
      "outputs": [
        {
          "name": "stdout",
          "output_type": "stream",
          "text": [
            "employedBy\n",
            "[{'type': 'Person', 'text': 'Nadella'}]\n",
            "[{'type': 'Organization', 'text': 'Hyderabad Public School', 'disambiguation': {'subtype': ['Commercial']}}]\n",
            "awardedTo\n",
            "[{'type': 'Degree', 'text': 'bachelor'}]\n",
            "[{'type': 'Person', 'text': 'Nadella'}]\n",
            "educatedAt\n",
            "[{'type': 'Person', 'text': 'Nadella'}]\n",
            "[{'type': 'Organization', 'text': 'Manipal Institute of Technology', 'disambiguation': {'subtype': ['Educational']}}]\n",
            "educatedAt\n",
            "[{'type': 'Person', 'text': 'Nadella'}]\n",
            "[{'type': 'Organization', 'text': 'Mangalore University', 'disambiguation': {'subtype': ['Educational']}}]\n",
            "awardedBy\n",
            "[{'type': 'Degree', 'text': 'bachelor'}]\n",
            "[{'type': 'Organization', 'text': 'Manipal Institute of Technology', 'disambiguation': {'subtype': ['Educational']}}]\n",
            "basedIn\n",
            "[{'type': 'Organization', 'text': 'Mangalore University', 'disambiguation': {'subtype': ['Educational']}}]\n",
            "[{'type': 'GeopoliticalEntity', 'text': 'Karnataka'}]\n"
          ]
        }
      ],
      "source": [
        "mytext3 = \"\"\"Nadella attended the Hyderabad Public School, Begumpet [12] before receiving\n",
        "a bachelor's in electrical engineering[13] from the Manipal Institute of Technology \n",
        "(then part of Mangalore University) in Karnataka in 1988.\"\"\"\n",
        "response = natural_language_understanding.analyze(\n",
        "    text=mytext3,\n",
        "    features=Features(relations=RelationsOptions())).get_result()\n",
        "for item in response['relations']:\n",
        "        print(item['type'])\n",
        "        for subitem in item['arguments']:\n",
        "            print(subitem['entities'])"
      ]
    },
    {
      "cell_type": "markdown",
      "metadata": {},
      "source": [
        "## Note\n",
        "\n",
        "- **การสกัดความสัมพันธ์ (Relation Extraction: RE)** แสดงความสัมพันธ์ระหว่างเอนทิตีต่างๆ\n",
        "- สามารถใช้ข้อมูลจาก RE ในการสร้าง **ฐานความรู้ (Knowledge Base)** สำหรับองค์กร\n",
        "  - **Watson Knowledge Studio (WKS) สร้าง Custom Model เพื่อนำ Deploy บน Watson NLU**\n",
        "- **การสกัดความสัมพันธ์ยังไม่สมบูรณ์**: ยังเป็นปัญหาที่ต้องการการปรับปรุงเพิ่มเติม\n",
        "- **ประสิทธิภาพขึ้นอยู่กับโดเมน**:\n",
        "  - วิธีการที่ใช้กับ **Wikipedia** อาจทำงานได้ดี\n",
        "  - แต่ไม่แน่ว่าจะเหมาะกับ **บทความข่าวทั่วไป** หรือ **ข้อความจากโซเชียลมีเดีย**\n",
        "\n"
      ]
    }
  ],
  "metadata": {
    "colab": {
      "name": "REWatson.ipynb",
      "provenance": []
    },
    "kernelspec": {
      "display_name": "Python 3",
      "language": "python",
      "name": "python3"
    },
    "language_info": {
      "codemirror_mode": {
        "name": "ipython",
        "version": 3
      },
      "file_extension": ".py",
      "mimetype": "text/x-python",
      "name": "python",
      "nbconvert_exporter": "python",
      "pygments_lexer": "ipython3",
      "version": "3.9.19"
    }
  },
  "nbformat": 4,
  "nbformat_minor": 0
}
